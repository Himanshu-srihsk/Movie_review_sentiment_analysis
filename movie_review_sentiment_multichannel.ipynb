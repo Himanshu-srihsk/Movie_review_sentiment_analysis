{
 "cells": [
  {
   "cell_type": "code",
   "execution_count": 28,
   "metadata": {},
   "outputs": [],
   "source": [
    "import string \n",
    "import re \n",
    "from os import listdir \n",
    "from collections import Counter \n",
    "from nltk.corpus import stopwords\n",
    "from keras.preprocessing.text import Tokenizer \n",
    "from keras.utils.vis_utils import plot_model \n",
    "from keras.models import Sequential \n",
    "from keras.layers import Dense\n",
    "from keras.layers import Flatten \n",
    "from pandas import DataFrame \n",
    "from matplotlib import pyplot\n",
    "from keras.layers import Embedding \n",
    "from keras.models import Model \n",
    "from keras.layers import Input  \n",
    "from keras.layers import Dropout\n",
    "from keras.layers.convolutional import Conv1D \n",
    "from keras.layers.convolutional import MaxPooling1D\n",
    "from keras.preprocessing.sequence import pad_sequences\n",
    "from keras.models import load_model\n",
    "from pickle import dump\n",
    "from pickle import load \n",
    "from keras.layers.merge import concatenate\n",
    "\n",
    "\n"
   ]
  },
  {
   "cell_type": "code",
   "execution_count": 2,
   "metadata": {},
   "outputs": [],
   "source": [
    "# load doc into memory \n",
    "def load_doc(filename): \n",
    "    # open the file as read only \n",
    "    file = open(filename,'r') \n",
    "    # read all text \n",
    "    text = file.read() \n",
    "    # close the file \n",
    "    file.close() \n",
    "    return text"
   ]
  },
  {
   "cell_type": "code",
   "execution_count": 6,
   "metadata": {},
   "outputs": [],
   "source": [
    "# turn a doc into clean tokens \n",
    "def clean_doc(doc): \n",
    "    # split into tokens by white space \n",
    "    tokens = doc.split() \n",
    "    # prepare regex for char filtering \n",
    "    re_punc = re.compile('[%s]' % re.escape(string.punctuation)) \n",
    "    # remove punctuation from each word \n",
    "    tokens = [re_punc.sub('', w) for w in tokens] \n",
    "    # remove remaining tokens that are not alphabetic \n",
    "    tokens = [word for word in tokens if word.isalpha()] \n",
    "    # filter out stop words\n",
    "    stop_words = set(stopwords.words('english')) \n",
    "    tokens = [w for w in tokens if not w in stop_words] \n",
    "    # filter out short tokens \n",
    "    tokens = [word for word in tokens if len(word) > 1] \n",
    "    tokens = ' '.join(tokens) \n",
    "    return tokens"
   ]
  },
  {
   "cell_type": "code",
   "execution_count": 11,
   "metadata": {},
   "outputs": [],
   "source": [
    "# load all docs in a directory \n",
    "def process_docs(directory, is_train): \n",
    "    documents = list()\n",
    "    # walk through all files in the folder \n",
    "    for filename in listdir(directory): \n",
    "        # skip any reviews in the test set \n",
    "        if is_train and filename.startswith('cv9'): \n",
    "            continue \n",
    "        if not is_train and not filename.startswith('cv9'): \n",
    "            continue     \n",
    "        # create the full path of the file to open \n",
    "        path = directory + '/' + filename \n",
    "        # load the doc \n",
    "        doc = load_doc(path) \n",
    "        # clean doc \n",
    "        tokens = clean_doc(doc) \n",
    "        documents.append(tokens)\n",
    "    return documents"
   ]
  },
  {
   "cell_type": "code",
   "execution_count": 12,
   "metadata": {},
   "outputs": [],
   "source": [
    "# load and clean a dataset \n",
    "def load_clean_dataset(is_train): \n",
    "    # load documents \n",
    "    neg = process_docs('txt_sentoken/neg', is_train) \n",
    "    pos = process_docs('txt_sentoken/pos', is_train) \n",
    "    docs = neg + pos \n",
    "    # prepare labels \n",
    "    labels = [0 for _ in range(len(neg))] + [1 for _ in range(len(pos))] \n",
    "    return docs, labels"
   ]
  },
  {
   "cell_type": "code",
   "execution_count": 13,
   "metadata": {},
   "outputs": [],
   "source": [
    "# save a dataset to file \n",
    "def save_dataset(dataset, filename): \n",
    "    dump(dataset, open(filename, 'wb')) \n",
    "    print('Saved: %s' % filename)\n"
   ]
  },
  {
   "cell_type": "code",
   "execution_count": 14,
   "metadata": {},
   "outputs": [
    {
     "name": "stdout",
     "output_type": "stream",
     "text": [
      "Saved: train.pkl\n",
      "Saved: test.pkl\n"
     ]
    }
   ],
   "source": [
    "# load and clean all reviews \n",
    "train_docs, ytrain = load_clean_dataset(True) \n",
    "test_docs, ytest = load_clean_dataset(False) \n",
    "# save training datasets \n",
    "save_dataset([train_docs, ytrain], 'train.pkl') \n",
    "save_dataset([test_docs, ytest], 'test.pkl')\n",
    "\n"
   ]
  },
  {
   "cell_type": "code",
   "execution_count": 15,
   "metadata": {},
   "outputs": [],
   "source": [
    "# load a clean dataset \n",
    "def load_dataset(filename): \n",
    "    return load(open(filename, 'rb'))\n"
   ]
  },
  {
   "cell_type": "code",
   "execution_count": 16,
   "metadata": {},
   "outputs": [],
   "source": [
    "# fit a tokenizer \n",
    "def create_tokenizer(lines): \n",
    "    tokenizer = Tokenizer() \n",
    "    tokenizer.fit_on_texts(lines) \n",
    "    return tokenizer"
   ]
  },
  {
   "cell_type": "code",
   "execution_count": 17,
   "metadata": {},
   "outputs": [],
   "source": [
    "# calculate the maximum document length \n",
    "def max_length(lines): \n",
    "    return max([len(s.split()) for s in lines])\n"
   ]
  },
  {
   "cell_type": "code",
   "execution_count": 24,
   "metadata": {},
   "outputs": [],
   "source": [
    "# integer encode and pad documents \n",
    "def encode_text(tokenizer, lines,length): \n",
    "    # integer encode \n",
    "    encoded = tokenizer.texts_to_sequences(lines) \n",
    "    # pad sequences \n",
    "    padded = pad_sequences(encoded, maxlen=length, padding='post') \n",
    "    return padded"
   ]
  },
  {
   "cell_type": "code",
   "execution_count": 30,
   "metadata": {},
   "outputs": [],
   "source": [
    "# define the model \n",
    "def define_model(length, vocab_size): \n",
    "    # channel 1 \n",
    "    inputs1 = Input(shape=(length,)) \n",
    "    embedding1 = Embedding(vocab_size, 100)(inputs1) \n",
    "    conv1 = Conv1D(filters=32, kernel_size=4, activation='relu')(embedding1) \n",
    "    drop1 = Dropout(0.5)(conv1) \n",
    "    pool1 = MaxPooling1D(pool_size=2)(drop1) \n",
    "    flat1 = Flatten()(pool1) \n",
    "    # channel 2 \n",
    "    inputs2 = Input(shape=(length,)) \n",
    "    embedding2 = Embedding(vocab_size, 100)(inputs2) \n",
    "    conv2 = Conv1D(filters=32, kernel_size=6, activation='relu')(embedding2) \n",
    "    drop2 = Dropout(0.5)(conv2) \n",
    "    pool2 = MaxPooling1D(pool_size=2)(drop2) \n",
    "    flat2 = Flatten()(pool2)\n",
    "    # channel 3 \n",
    "    inputs3 = Input(shape=(length,)) \n",
    "    embedding3 = Embedding(vocab_size, 100)(inputs3) \n",
    "    conv3 = Conv1D(filters=32, kernel_size=8, activation='relu')(embedding3) \n",
    "    drop3 = Dropout(0.5)(conv3) \n",
    "    pool3 = MaxPooling1D(pool_size=2)(drop3) \n",
    "    flat3 = Flatten()(pool3) \n",
    "    # merge \n",
    "    merged = concatenate([flat1, flat2, flat3]) \n",
    "    # interpretation \n",
    "    dense1 = Dense(10, activation='relu')(merged) \n",
    "    outputs = Dense(1, activation='sigmoid')(dense1) \n",
    "    model = Model(inputs=[inputs1, inputs2, inputs3], outputs=outputs) \n",
    "    # compile \n",
    "    model.compile(loss='binary_crossentropy', optimizer='adam', metrics=['accuracy']) \n",
    "    # summarize \n",
    "    model.summary() \n",
    "    plot_model(model, show_shapes=True, to_file='model_multichannel.png') \n",
    "    return model\n"
   ]
  },
  {
   "cell_type": "code",
   "execution_count": 31,
   "metadata": {},
   "outputs": [
    {
     "name": "stdout",
     "output_type": "stream",
     "text": [
      "Max document length: 1380\n",
      "Vocabulary size: 44277\n",
      "__________________________________________________________________________________________________\n",
      "Layer (type)                    Output Shape         Param #     Connected to                     \n",
      "==================================================================================================\n",
      "input_7 (InputLayer)            (None, 1380)         0                                            \n",
      "__________________________________________________________________________________________________\n",
      "input_8 (InputLayer)            (None, 1380)         0                                            \n",
      "__________________________________________________________________________________________________\n",
      "input_9 (InputLayer)            (None, 1380)         0                                            \n",
      "__________________________________________________________________________________________________\n",
      "embedding_7 (Embedding)         (None, 1380, 100)    4427700     input_7[0][0]                    \n",
      "__________________________________________________________________________________________________\n",
      "embedding_8 (Embedding)         (None, 1380, 100)    4427700     input_8[0][0]                    \n",
      "__________________________________________________________________________________________________\n",
      "embedding_9 (Embedding)         (None, 1380, 100)    4427700     input_9[0][0]                    \n",
      "__________________________________________________________________________________________________\n",
      "conv1d_7 (Conv1D)               (None, 1377, 32)     12832       embedding_7[0][0]                \n",
      "__________________________________________________________________________________________________\n",
      "conv1d_8 (Conv1D)               (None, 1375, 32)     19232       embedding_8[0][0]                \n",
      "__________________________________________________________________________________________________\n",
      "conv1d_9 (Conv1D)               (None, 1373, 32)     25632       embedding_9[0][0]                \n",
      "__________________________________________________________________________________________________\n",
      "dropout_7 (Dropout)             (None, 1377, 32)     0           conv1d_7[0][0]                   \n",
      "__________________________________________________________________________________________________\n",
      "dropout_8 (Dropout)             (None, 1375, 32)     0           conv1d_8[0][0]                   \n",
      "__________________________________________________________________________________________________\n",
      "dropout_9 (Dropout)             (None, 1373, 32)     0           conv1d_9[0][0]                   \n",
      "__________________________________________________________________________________________________\n",
      "max_pooling1d_7 (MaxPooling1D)  (None, 688, 32)      0           dropout_7[0][0]                  \n",
      "__________________________________________________________________________________________________\n",
      "max_pooling1d_8 (MaxPooling1D)  (None, 687, 32)      0           dropout_8[0][0]                  \n",
      "__________________________________________________________________________________________________\n",
      "max_pooling1d_9 (MaxPooling1D)  (None, 686, 32)      0           dropout_9[0][0]                  \n",
      "__________________________________________________________________________________________________\n",
      "flatten_7 (Flatten)             (None, 22016)        0           max_pooling1d_7[0][0]            \n",
      "__________________________________________________________________________________________________\n",
      "flatten_8 (Flatten)             (None, 21984)        0           max_pooling1d_8[0][0]            \n",
      "__________________________________________________________________________________________________\n",
      "flatten_9 (Flatten)             (None, 21952)        0           max_pooling1d_9[0][0]            \n",
      "__________________________________________________________________________________________________\n",
      "concatenate_2 (Concatenate)     (None, 65952)        0           flatten_7[0][0]                  \n",
      "                                                                 flatten_8[0][0]                  \n",
      "                                                                 flatten_9[0][0]                  \n",
      "__________________________________________________________________________________________________\n",
      "dense_3 (Dense)                 (None, 10)           659530      concatenate_2[0][0]              \n",
      "__________________________________________________________________________________________________\n",
      "dense_4 (Dense)                 (None, 1)            11          dense_3[0][0]                    \n",
      "==================================================================================================\n",
      "Total params: 14,000,337\n",
      "Trainable params: 14,000,337\n",
      "Non-trainable params: 0\n",
      "__________________________________________________________________________________________________\n",
      "Epoch 1/7\n",
      "1800/1800 [==============================] - 60s 33ms/step - loss: 0.6955 - acc: 0.5406\n",
      "Epoch 2/7\n",
      "1800/1800 [==============================] - 43s 24ms/step - loss: 0.3789 - acc: 0.8494\n",
      "Epoch 3/7\n",
      "1800/1800 [==============================] - 46s 25ms/step - loss: 0.0252 - acc: 0.9961\n",
      "Epoch 4/7\n",
      "1800/1800 [==============================] - 47s 26ms/step - loss: 0.0024 - acc: 1.0000\n",
      "Epoch 5/7\n",
      "1800/1800 [==============================] - 46s 26ms/step - loss: 0.0012 - acc: 1.0000\n",
      "Epoch 6/7\n",
      "1800/1800 [==============================] - 49s 27ms/step - loss: 8.6831e-04 - acc: 1.0000\n",
      "Epoch 7/7\n",
      "1800/1800 [==============================] - 50s 28ms/step - loss: 6.3167e-04 - acc: 1.0000\n"
     ]
    }
   ],
   "source": [
    "# load training dataset \n",
    "trainLines, trainLabels = load_dataset('train.pkl') \n",
    "# create tokenizer \n",
    "tokenizer = create_tokenizer(trainLines) \n",
    "# calculate max document length \n",
    "length = max_length(trainLines) \n",
    "print('Max document length: %d' % length) \n",
    "# calculate vocabulary size \n",
    "vocab_size = len(tokenizer.word_index) + 1 \n",
    "print('Vocabulary size: %d' % vocab_size) \n",
    "# encode data \n",
    "trainX = encode_text(tokenizer, trainLines, length) \n",
    "# define model \n",
    "model = define_model(length, vocab_size) \n",
    "# fit model \n",
    "model.fit([trainX,trainX,trainX], trainLabels, epochs=7, batch_size=16) \n",
    "# save the model \n",
    "model.save('model_multichannel.h5')\n"
   ]
  },
  {
   "cell_type": "code",
   "execution_count": 34,
   "metadata": {},
   "outputs": [
    {
     "name": "stdout",
     "output_type": "stream",
     "text": [
      "Train Accuracy: 100.00\n",
      "Test Accuracy: 84.50\n"
     ]
    }
   ],
   "source": [
    "testLines, testLabels = load_dataset('test.pkl') \n",
    "testX = encode_text(tokenizer, testLines, length) \n",
    "# load the model \n",
    "model = load_model('model_multichannel.h5') \n",
    "# evaluate model on training dataset \n",
    "_, acc = model.evaluate([trainX,trainX,trainX], trainLabels, verbose=0) \n",
    "print('Train Accuracy: %.2f' % (acc*100)) \n",
    "# evaluate model on test dataset dataset \n",
    "_, acc = model.evaluate([testX,testX,testX], testLabels, verbose=0) \n",
    "print('Test Accuracy: %.2f' % (acc*100))\n"
   ]
  },
  {
   "cell_type": "code",
   "execution_count": null,
   "metadata": {},
   "outputs": [],
   "source": []
  }
 ],
 "metadata": {
  "kernelspec": {
   "display_name": "Python 3",
   "language": "python",
   "name": "python3"
  },
  "language_info": {
   "codemirror_mode": {
    "name": "ipython",
    "version": 3
   },
   "file_extension": ".py",
   "mimetype": "text/x-python",
   "name": "python",
   "nbconvert_exporter": "python",
   "pygments_lexer": "ipython3",
   "version": "3.6.9"
  }
 },
 "nbformat": 4,
 "nbformat_minor": 2
}
