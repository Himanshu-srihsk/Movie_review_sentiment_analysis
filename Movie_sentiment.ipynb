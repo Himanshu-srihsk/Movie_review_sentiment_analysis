{
 "cells": [
  {
   "cell_type": "code",
   "execution_count": 20,
   "metadata": {},
   "outputs": [],
   "source": [
    "import string \n",
    "import re \n",
    "from os import listdir \n",
    "from collections import Counter \n",
    "from nltk.corpus import stopwords\n",
    "from keras.preprocessing.text import Tokenizer \n",
    "from keras.utils.vis_utils import plot_model \n",
    "from keras.models import Sequential \n",
    "from keras.layers import Dense\n",
    "from pandas import DataFrame \n",
    "from matplotlib import pyplot\n",
    "\n"
   ]
  },
  {
   "cell_type": "code",
   "execution_count": 2,
   "metadata": {},
   "outputs": [],
   "source": [
    "# load doc into memory \n",
    "def load_doc(filename): \n",
    "    # open the file as read only \n",
    "    file = open(filename,'r') \n",
    "    # read all text \n",
    "    text = file.read() \n",
    "    # close the file \n",
    "    file.close() \n",
    "    return text\n"
   ]
  },
  {
   "cell_type": "code",
   "execution_count": 3,
   "metadata": {},
   "outputs": [],
   "source": [
    "# turn a doc into clean tokens \n",
    "def clean_doc(doc): \n",
    "    # split into tokens by white space \n",
    "    tokens = doc.split() \n",
    "    # prepare regex for char filtering \n",
    "    re_punc = re.compile('[%s]' % re.escape(string.punctuation)) \n",
    "    # remove punctuation from each word \n",
    "    tokens = [re_punc.sub('', w) for w in tokens] \n",
    "    # remove remaining tokens that are not alphabetic \n",
    "    tokens = [word for word in tokens if word.isalpha()] \n",
    "    # filter out stop words\n",
    "    stop_words = set(stopwords.words('english')) \n",
    "    tokens = [w for w in tokens if not w in stop_words] \n",
    "    # filter out short tokens \n",
    "    tokens = [word for word in tokens if len(word) > 1] \n",
    "    return tokens\n"
   ]
  },
  {
   "cell_type": "code",
   "execution_count": 4,
   "metadata": {},
   "outputs": [],
   "source": [
    "# load doc, clean and return line of tokens \n",
    "def doc_to_line(filename, vocab): \n",
    "    # load the doc \n",
    "    doc = load_doc(filename) \n",
    "    # clean doc \n",
    "    tokens = clean_doc(doc) \n",
    "    # filter by vocab \n",
    "    tokens = [w for w in tokens if w in vocab] \n",
    "    return ' '.join(tokens)\n"
   ]
  },
  {
   "cell_type": "code",
   "execution_count": 5,
   "metadata": {},
   "outputs": [],
   "source": [
    "def save_list(lines, filename): \n",
    "    # convert lines to a single blob of text \n",
    "    data = '\\n'.join(lines) \n",
    "    # open file \n",
    "    file = open(filename, 'w') \n",
    "    # write text \n",
    "    file.write(data) \n",
    "    # close file \n",
    "    file.close()\n"
   ]
  },
  {
   "cell_type": "code",
   "execution_count": 6,
   "metadata": {},
   "outputs": [],
   "source": [
    "# load doc and add to vocab \n",
    "def add_doc_to_vocab(filename, vocab): \n",
    "    # load doc \n",
    "    doc = load_doc(filename) \n",
    "    # clean doc \n",
    "    tokens = clean_doc(doc) \n",
    "    # update counts \n",
    "    vocab.update(tokens)\n"
   ]
  },
  {
   "cell_type": "code",
   "execution_count": 7,
   "metadata": {},
   "outputs": [],
   "source": [
    "# load all docs in a directory \n",
    "def process_docs(directory, vocab,is_train): \n",
    "    lines = list()\n",
    "    # walk through all files in the folder \n",
    "    for filename in listdir(directory): \n",
    "        # skip any reviews in the test set \n",
    "        if is_train and filename.startswith('cv9'): \n",
    "            continue \n",
    "        if not is_train and not filename.startswith('cv9'): \n",
    "            continue     \n",
    "        # create the full path of the file to open \n",
    "        path = directory + '/' + filename \n",
    "        # add doc to vocab \n",
    "        #add_doc_to_vocab(path, vocab)\n",
    "        # load and clean the doc \n",
    "        line = doc_to_line(path, vocab) \n",
    "        # add to list \n",
    "        lines.append(line) \n",
    "    return lines\n",
    "\n"
   ]
  },
  {
   "cell_type": "code",
   "execution_count": 8,
   "metadata": {},
   "outputs": [],
   "source": [
    "# load and clean a dataset \n",
    "def load_clean_dataset(vocab,is_train): \n",
    "    # load documents \n",
    "    neg = process_docs('txt_sentoken/neg', vocab,is_train) \n",
    "    pos = process_docs('txt_sentoken/pos', vocab,is_train) \n",
    "    docs = neg + pos \n",
    "    # prepare labels \n",
    "    labels = [0 for _ in range(len(neg))] + [1 for _ in range(len(pos))] \n",
    "    return docs, labels"
   ]
  },
  {
   "cell_type": "code",
   "execution_count": 9,
   "metadata": {},
   "outputs": [],
   "source": [
    "# fit a tokenizer \n",
    "def create_tokenizer(lines): \n",
    "    tokenizer = Tokenizer() \n",
    "    tokenizer.fit_on_texts(lines) \n",
    "    return tokenizer\n"
   ]
  },
  {
   "cell_type": "code",
   "execution_count": 10,
   "metadata": {},
   "outputs": [],
   "source": [
    "# define the model \n",
    "def define_model(n_words): \n",
    "    # define network \n",
    "    model = Sequential() \n",
    "    model.add(Dense(50, input_shape=(n_words,), activation='relu')) \n",
    "    model.add(Dense(1, activation='sigmoid')) \n",
    "    # compile network \n",
    "    model.compile(loss='binary_crossentropy', optimizer='adam', metrics=['accuracy']) \n",
    "    # summarize defined \n",
    "    model.summary() \n",
    "    plot_model(model, to_file='model.png', show_shapes=True) \n",
    "    return model\n"
   ]
  },
  {
   "cell_type": "code",
   "execution_count": 11,
   "metadata": {},
   "outputs": [],
   "source": [
    "# evaluate a neural network model \n",
    "def evaluate_mode(Xtrain, ytrain, Xtest, ytest): \n",
    "    scores = list() \n",
    "    n_repeats = 10 \n",
    "    n_words = Xtest.shape[1] \n",
    "    for i in range(n_repeats): \n",
    "        # define network \n",
    "        model = define_model(n_words) \n",
    "        # fit network \n",
    "        model.fit(Xtrain, ytrain, epochs=10, verbose=0) \n",
    "        # evaluate\n",
    "        _, acc = model.evaluate(Xtest, ytest, verbose=0) \n",
    "        scores.append(acc) \n",
    "        print('%d accuracy: %s' % ((i+1), acc)) \n",
    "        return scores\n"
   ]
  },
  {
   "cell_type": "code",
   "execution_count": 12,
   "metadata": {},
   "outputs": [],
   "source": [
    "# prepare bag of words encoding of docs \n",
    "def prepare_data(train_docs, test_docs, mode): \n",
    "    # create the tokenizer \n",
    "    tokenizer = Tokenizer() \n",
    "    # fit the tokenizer on the documents \n",
    "    tokenizer.fit_on_texts(train_docs) \n",
    "    # encode training data set \n",
    "    Xtrain = tokenizer.texts_to_matrix(train_docs, mode=mode) \n",
    "    # encode training data set \n",
    "    Xtest = tokenizer.texts_to_matrix(test_docs, mode=mode) \n",
    "    return Xtrain, Xtest\n"
   ]
  },
  {
   "cell_type": "code",
   "execution_count": 22,
   "metadata": {},
   "outputs": [],
   "source": [
    "# classify a review as negative or positive \n",
    "def predict_sentiment(review, vocab, tokenizer, model): \n",
    "    # clean \n",
    "    tokens = clean_doc(review) \n",
    "    # filter by vocab \n",
    "    tokens = [w for w in tokens if w in vocab] \n",
    "    # convert to line \n",
    "    line = ' '.join(tokens) \n",
    "    # encode \n",
    "    encoded = tokenizer.texts_to_matrix([line], mode='binary') \n",
    "    # predict sentiment \n",
    "    yhat = model.predict(encoded, verbose=0) \n",
    "    # retrieve predicted percentage and label \n",
    "    percent_pos = yhat[0,0] \n",
    "    if round(percent_pos) == 0: \n",
    "        return (1-percent_pos), 'NEGATIVE' \n",
    "    return percent_pos, 'POSITIVE'\n"
   ]
  },
  {
   "cell_type": "code",
   "execution_count": 13,
   "metadata": {},
   "outputs": [
    {
     "data": {
      "text/plain": [
       "\"\\n# define vocab \\nvocab = Counter() \\n# add all docs to vocab \\nprocess_docs('txt_sentoken/pos', vocab) \\nprocess_docs('txt_sentoken/neg', vocab) \\n# print the size of the vocab \\nprint(len(vocab)) \\n# print the top words in the vocab\\nprint(vocab.most_common(50))\\n# keep tokens with a min occurrence \\nmin_occurane = 2 \\ntokens = [k for k,c in vocab.items() if c >= min_occurane] \\nprint(len(tokens)) \\n# save tokens to a vocabulary file \\nsave_list(tokens, 'vocab.txt')\\n\""
      ]
     },
     "execution_count": 13,
     "metadata": {},
     "output_type": "execute_result"
    }
   ],
   "source": [
    "\"\"\"\n",
    "# define vocab \n",
    "vocab = Counter() \n",
    "# add all docs to vocab \n",
    "process_docs('txt_sentoken/pos', vocab) \n",
    "process_docs('txt_sentoken/neg', vocab) \n",
    "# print the size of the vocab \n",
    "print(len(vocab)) \n",
    "# print the top words in the vocab\n",
    "print(vocab.most_common(50))\n",
    "# keep tokens with a min occurrence \n",
    "min_occurane = 2 \n",
    "tokens = [k for k,c in vocab.items() if c >= min_occurane] \n",
    "print(len(tokens)) \n",
    "# save tokens to a vocabulary file \n",
    "save_list(tokens, 'vocab.txt')\n",
    "\"\"\""
   ]
  },
  {
   "cell_type": "code",
   "execution_count": 14,
   "metadata": {},
   "outputs": [
    {
     "data": {
      "text/plain": [
       "\"\\n# load the vocabulary \\nvocab_filename = 'vocab.txt' \\nvocab = load_doc(vocab_filename) \\nvocab = vocab.split() \\nvocab = set(vocab) \\n# load all training reviews \\ndocs,labels = load_clean_dataset(vocab) \\n# summarize what we have \\nprint(len(docs), len(labels))\\n\""
      ]
     },
     "execution_count": 14,
     "metadata": {},
     "output_type": "execute_result"
    }
   ],
   "source": [
    "\"\"\"\n",
    "# load the vocabulary \n",
    "vocab_filename = 'vocab.txt' \n",
    "vocab = load_doc(vocab_filename) \n",
    "vocab = vocab.split() \n",
    "vocab = set(vocab) \n",
    "# load all training reviews \n",
    "docs,labels = load_clean_dataset(vocab) \n",
    "# summarize what we have \n",
    "print(len(docs), len(labels))\n",
    "\"\"\""
   ]
  },
  {
   "cell_type": "code",
   "execution_count": 15,
   "metadata": {},
   "outputs": [],
   "source": [
    "#labels"
   ]
  },
  {
   "cell_type": "code",
   "execution_count": 16,
   "metadata": {},
   "outputs": [
    {
     "name": "stdout",
     "output_type": "stream",
     "text": [
      "(1800, 25768) (200, 25768)\n",
      "WARNING:tensorflow:From C:\\Users\\Lenovo\\AppData\\Local\\conda\\conda\\envs\\tensorflow\\lib\\site-packages\\keras\\backend\\tensorflow_backend.py:74: The name tf.get_default_graph is deprecated. Please use tf.compat.v1.get_default_graph instead.\n",
      "\n",
      "WARNING:tensorflow:From C:\\Users\\Lenovo\\AppData\\Local\\conda\\conda\\envs\\tensorflow\\lib\\site-packages\\keras\\backend\\tensorflow_backend.py:517: The name tf.placeholder is deprecated. Please use tf.compat.v1.placeholder instead.\n",
      "\n",
      "WARNING:tensorflow:From C:\\Users\\Lenovo\\AppData\\Local\\conda\\conda\\envs\\tensorflow\\lib\\site-packages\\keras\\backend\\tensorflow_backend.py:4138: The name tf.random_uniform is deprecated. Please use tf.random.uniform instead.\n",
      "\n",
      "WARNING:tensorflow:From C:\\Users\\Lenovo\\AppData\\Local\\conda\\conda\\envs\\tensorflow\\lib\\site-packages\\keras\\optimizers.py:790: The name tf.train.Optimizer is deprecated. Please use tf.compat.v1.train.Optimizer instead.\n",
      "\n",
      "WARNING:tensorflow:From C:\\Users\\Lenovo\\AppData\\Local\\conda\\conda\\envs\\tensorflow\\lib\\site-packages\\keras\\backend\\tensorflow_backend.py:3376: The name tf.log is deprecated. Please use tf.math.log instead.\n",
      "\n",
      "WARNING:tensorflow:From C:\\Users\\Lenovo\\AppData\\Local\\conda\\conda\\envs\\tensorflow\\lib\\site-packages\\tensorflow\\python\\ops\\nn_impl.py:180: add_dispatch_support.<locals>.wrapper (from tensorflow.python.ops.array_ops) is deprecated and will be removed in a future version.\n",
      "Instructions for updating:\n",
      "Use tf.where in 2.0, which has the same broadcast rule as np.where\n",
      "_________________________________________________________________\n",
      "Layer (type)                 Output Shape              Param #   \n",
      "=================================================================\n",
      "dense_1 (Dense)              (None, 50)                1288450   \n",
      "_________________________________________________________________\n",
      "dense_2 (Dense)              (None, 1)                 51        \n",
      "=================================================================\n",
      "Total params: 1,288,501\n",
      "Trainable params: 1,288,501\n",
      "Non-trainable params: 0\n",
      "_________________________________________________________________\n",
      "WARNING:tensorflow:From C:\\Users\\Lenovo\\AppData\\Local\\conda\\conda\\envs\\tensorflow\\lib\\site-packages\\keras\\backend\\tensorflow_backend.py:986: The name tf.assign_add is deprecated. Please use tf.compat.v1.assign_add instead.\n",
      "\n",
      "Epoch 1/5\n",
      " - 2s - loss: 0.6918 - acc: 0.5094\n",
      "Epoch 2/5\n",
      " - 1s - loss: 0.6831 - acc: 0.6150\n",
      "Epoch 3/5\n",
      " - 1s - loss: 0.6664 - acc: 0.8206\n",
      "Epoch 4/5\n",
      " - 1s - loss: 0.6402 - acc: 0.8650\n",
      "Epoch 5/5\n",
      " - 2s - loss: 0.6052 - acc: 0.9244\n",
      "Test Accuracy: 85.000000\n"
     ]
    }
   ],
   "source": [
    "vocab_filename = 'vocab.txt' \n",
    "vocab = load_doc(vocab_filename) \n",
    "vocab = vocab.split() \n",
    "vocab = set(vocab) \n",
    "# load all reviews \n",
    "train_docs, ytrain = load_clean_dataset(vocab, True) \n",
    "test_docs, ytest = load_clean_dataset(vocab, False) \n",
    "# create the tokenizer \n",
    "tokenizer = create_tokenizer(train_docs) \n",
    "# encode data \n",
    "Xtrain = tokenizer.texts_to_matrix(train_docs, mode='freq') \n",
    "Xtest = tokenizer.texts_to_matrix(test_docs, mode='freq') \n",
    "print(Xtrain.shape, Xtest.shape)\n",
    "# define the model \n",
    "n_words = Xtest.shape[1] \n",
    "model = define_model(n_words) \n",
    "# fit network \n",
    "model.fit(Xtrain, ytrain, epochs=5, verbose=2) \n",
    "# evaluate \n",
    "loss, acc = model.evaluate(Xtest, ytest, verbose=0) \n",
    "print('Test Accuracy: %f' % (acc*100))\n"
   ]
  },
  {
   "cell_type": "code",
   "execution_count": 21,
   "metadata": {},
   "outputs": [
    {
     "name": "stdout",
     "output_type": "stream",
     "text": [
      "_________________________________________________________________\n",
      "Layer (type)                 Output Shape              Param #   \n",
      "=================================================================\n",
      "dense_5 (Dense)              (None, 50)                1288450   \n",
      "_________________________________________________________________\n",
      "dense_6 (Dense)              (None, 1)                 51        \n",
      "=================================================================\n",
      "Total params: 1,288,501\n",
      "Trainable params: 1,288,501\n",
      "Non-trainable params: 0\n",
      "_________________________________________________________________\n",
      "1 accuracy: 0.925\n",
      "       binary\n",
      "count   1.000\n",
      "mean    0.925\n",
      "std       NaN\n",
      "min     0.925\n",
      "25%     0.925\n",
      "50%     0.925\n",
      "75%     0.925\n",
      "max     0.925\n"
     ]
    },
    {
     "data": {
      "image/png": "[encoded data removed]",
      "text/plain": [
       "<Figure size 432x288 with 1 Axes>"
      ]
     },
     "metadata": {
      "needs_background": "light"
     },
     "output_type": "display_data"
    },
    {
     "name": "stdout",
     "output_type": "stream",
     "text": [
      "_________________________________________________________________\n",
      "Layer (type)                 Output Shape              Param #   \n",
      "=================================================================\n",
      "dense_7 (Dense)              (None, 50)                1288450   \n",
      "_________________________________________________________________\n",
      "dense_8 (Dense)              (None, 1)                 51        \n",
      "=================================================================\n",
      "Total params: 1,288,501\n",
      "Trainable params: 1,288,501\n",
      "Non-trainable params: 0\n",
      "_________________________________________________________________\n",
      "1 accuracy: 0.905\n",
      "       binary  count\n",
      "count   1.000  1.000\n",
      "mean    0.925  0.905\n",
      "std       NaN    NaN\n",
      "min     0.925  0.905\n",
      "25%     0.925  0.905\n",
      "50%     0.925  0.905\n",
      "75%     0.925  0.905\n",
      "max     0.925  0.905\n"
     ]
    },
    {
     "data": {
      "image/png": "[encoded data removed]",
      "text/plain": [
       "<Figure size 432x288 with 1 Axes>"
      ]
     },
     "metadata": {
      "needs_background": "light"
     },
     "output_type": "display_data"
    },
    {
     "name": "stdout",
     "output_type": "stream",
     "text": [
      "_________________________________________________________________\n",
      "Layer (type)                 Output Shape              Param #   \n",
      "=================================================================\n",
      "dense_9 (Dense)              (None, 50)                1288450   \n",
      "_________________________________________________________________\n",
      "dense_10 (Dense)             (None, 1)                 51        \n",
      "=================================================================\n",
      "Total params: 1,288,501\n",
      "Trainable params: 1,288,501\n",
      "Non-trainable params: 0\n",
      "_________________________________________________________________\n",
      "1 accuracy: 0.885\n",
      "       binary  count  tfidf\n",
      "count   1.000  1.000  1.000\n",
      "mean    0.925  0.905  0.885\n",
      "std       NaN    NaN    NaN\n",
      "min     0.925  0.905  0.885\n",
      "25%     0.925  0.905  0.885\n",
      "50%     0.925  0.905  0.885\n",
      "75%     0.925  0.905  0.885\n",
      "max     0.925  0.905  0.885\n"
     ]
    },
    {
     "data": {
      "image/png": "[encoded data removed]",
      "text/plain": [
       "<Figure size 432x288 with 1 Axes>"
      ]
     },
     "metadata": {
      "needs_background": "light"
     },
     "output_type": "display_data"
    },
    {
     "name": "stdout",
     "output_type": "stream",
     "text": [
      "_________________________________________________________________\n",
      "Layer (type)                 Output Shape              Param #   \n",
      "=================================================================\n",
      "dense_11 (Dense)             (None, 50)                1288450   \n",
      "_________________________________________________________________\n",
      "dense_12 (Dense)             (None, 1)                 51        \n",
      "=================================================================\n",
      "Total params: 1,288,501\n",
      "Trainable params: 1,288,501\n",
      "Non-trainable params: 0\n",
      "_________________________________________________________________\n",
      "1 accuracy: 0.88\n",
      "       binary  count  tfidf  freq\n",
      "count   1.000  1.000  1.000  1.00\n",
      "mean    0.925  0.905  0.885  0.88\n",
      "std       NaN    NaN    NaN   NaN\n",
      "min     0.925  0.905  0.885  0.88\n",
      "25%     0.925  0.905  0.885  0.88\n",
      "50%     0.925  0.905  0.885  0.88\n",
      "75%     0.925  0.905  0.885  0.88\n",
      "max     0.925  0.905  0.885  0.88\n"
     ]
    },
    {
     "data": {
      "image/png": "[encoded data removed]",
      "text/plain": [
       "<Figure size 432x288 with 1 Axes>"
      ]
     },
     "metadata": {
      "needs_background": "light"
     },
     "output_type": "display_data"
    }
   ],
   "source": [
    "vocab_filename = 'vocab.txt' \n",
    "vocab = load_doc(vocab_filename) \n",
    "vocab = vocab.split() \n",
    "vocab = set(vocab) \n",
    "# load all reviews \n",
    "train_docs, ytrain = load_clean_dataset(vocab, True) \n",
    "test_docs, ytest = load_clean_dataset(vocab, False) \n",
    "# create the tokenizer \n",
    "tokenizer = create_tokenizer(train_docs) \n",
    "# encode data \n",
    "Xtrain = tokenizer.texts_to_matrix(train_docs, mode='freq') \n",
    "Xtest = tokenizer.texts_to_matrix(test_docs, mode='freq') \n",
    "#print(Xtrain.shape, Xtest.shape)\n",
    "# run experiment \n",
    "modes = ['binary', 'count', 'tfidf', 'freq'] \n",
    "results = DataFrame() \n",
    "for mode in modes: \n",
    "    # prepare data for mode \n",
    "    Xtrain, Xtest = prepare_data(train_docs, test_docs, mode) \n",
    "    # evaluate model on data for mode \n",
    "    results[mode] = evaluate_mode(Xtrain, ytrain, Xtest, ytest) \n",
    "    # summarize results \n",
    "    print(results.describe())\n",
    "    # plot results \n",
    "    results.boxplot() \n",
    "    pyplot.show()\n",
    "\n"
   ]
  },
  {
   "cell_type": "code",
   "execution_count": 25,
   "metadata": {},
   "outputs": [
    {
     "name": "stdout",
     "output_type": "stream",
     "text": [
      "_________________________________________________________________\n",
      "Layer (type)                 Output Shape              Param #   \n",
      "=================================================================\n",
      "dense_13 (Dense)             (None, 50)                1288450   \n",
      "_________________________________________________________________\n",
      "dense_14 (Dense)             (None, 1)                 51        \n",
      "=================================================================\n",
      "Total params: 1,288,501\n",
      "Trainable params: 1,288,501\n",
      "Non-trainable params: 0\n",
      "_________________________________________________________________\n",
      "Epoch 1/10\n",
      " - 2s - loss: 0.6924 - acc: 0.5189\n",
      "Epoch 2/10\n",
      " - 1s - loss: 0.6855 - acc: 0.8472\n",
      "Epoch 3/10\n",
      " - 1s - loss: 0.6668 - acc: 0.7633\n",
      "Epoch 4/10\n",
      " - 1s - loss: 0.6354 - acc: 0.9072\n",
      "Epoch 5/10\n",
      " - 1s - loss: 0.5949 - acc: 0.9317\n",
      "Epoch 6/10\n",
      " - 1s - loss: 0.5488 - acc: 0.9439\n",
      "Epoch 7/10\n",
      " - 1s - loss: 0.5006 - acc: 0.9461\n",
      "Epoch 8/10\n",
      " - 1s - loss: 0.4527 - acc: 0.9500\n",
      "Epoch 9/10\n",
      " - 1s - loss: 0.4083 - acc: 0.9583\n",
      "Epoch 10/10\n",
      " - 1s - loss: 0.3660 - acc: 0.9633\n"
     ]
    }
   ],
   "source": [
    "vocab_filename = 'vocab.txt' \n",
    "vocab = load_doc(vocab_filename) \n",
    "vocab = vocab.split() \n",
    "vocab = set(vocab) \n",
    "# load all reviews \n",
    "train_docs, ytrain = load_clean_dataset(vocab, True) \n",
    "test_docs, ytest = load_clean_dataset(vocab, False) \n",
    "# create the tokenizer \n",
    "tokenizer = create_tokenizer(train_docs) \n",
    "# encode data \n",
    "Xtrain = tokenizer.texts_to_matrix(train_docs, mode='freq') \n",
    "Xtest = tokenizer.texts_to_matrix(test_docs, mode='freq') \n",
    "# define network \n",
    "n_words = Xtrain.shape[1] \n",
    "model = define_model(n_words) \n",
    "# fit network \n",
    "model.fit(Xtrain, ytrain, epochs=10, verbose=2) \n",
    "# test positive text \n",
    "text = 'Best movie ever! It was great, I recommend it.' \n",
    "percent, sentiment = predict_sentiment(text, vocab, tokenizer, model) \n"
   ]
  },
  {
   "cell_type": "code",
   "execution_count": 27,
   "metadata": {},
   "outputs": [
    {
     "name": "stdout",
     "output_type": "stream",
     "text": [
      "Review: [Best movie ever! It was great, I recommend it.]\n",
      "Sentiment: POSITIVE (99.952%)\n",
      "Review: [This is a bad movie.]\n",
      "Sentiment: NEGATIVE (99.999%)\n"
     ]
    }
   ],
   "source": [
    "print('Review: [%s]\\nSentiment: %s (%.3f%%)' % (text, sentiment, percent*100)) \n",
    "# test negative text \n",
    "text = 'This is a bad movie.' \n",
    "percent, sentiment = predict_sentiment(text, vocab, tokenizer, model) \n",
    "print('Review: [%s]\\nSentiment: %s (%.3f%%)' % (text, sentiment, percent*100))\n"
   ]
  },
  {
   "cell_type": "code",
   "execution_count": 30,
   "metadata": {},
   "outputs": [
    {
     "name": "stdout",
     "output_type": "stream",
     "text": [
      "Review: [Boring I will not suggest]\n",
      "Sentiment: NEGATIVE (59.429%)\n"
     ]
    }
   ],
   "source": [
    "text = 'Boring I will not suggest' \n",
    "percent, sentiment = predict_sentiment(text, vocab, tokenizer, model) \n",
    "print('Review: [%s]\\nSentiment: %s (%.3f%%)' % (text, sentiment, percent*100))"
   ]
  },
  {
   "cell_type": "code",
   "execution_count": 35,
   "metadata": {},
   "outputs": [
    {
     "name": "stdout",
     "output_type": "stream",
     "text": [
      "Review: [It was nice ! i enjoyed it]\n",
      "Sentiment: POSITIVE (99.871%)\n"
     ]
    }
   ],
   "source": [
    "text = 'It was nice ! i enjoyed it' \n",
    "percent, sentiment = predict_sentiment(text, vocab, tokenizer, model) \n",
    "print('Review: [%s]\\nSentiment: %s (%.3f%%)' % (text, sentiment, percent*100))"
   ]
  },
  {
   "cell_type": "code",
   "execution_count": null,
   "metadata": {},
   "outputs": [],
   "source": []
  }
 ],
 "metadata": {
  "kernelspec": {
   "display_name": "Python 3",
   "language": "python",
   "name": "python3"
  },
  "language_info": {
   "codemirror_mode": {
    "name": "ipython",
    "version": 3
   },
   "file_extension": ".py",
   "mimetype": "text/x-python",
   "name": "python",
   "nbconvert_exporter": "python",
   "pygments_lexer": "ipython3",
   "version": "3.6.9"
  }
 },
 "nbformat": 4,
 "nbformat_minor": 2
}
